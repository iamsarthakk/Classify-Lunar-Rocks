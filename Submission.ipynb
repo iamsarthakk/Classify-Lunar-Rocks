{
 "cells": [
  {
   "cell_type": "code",
   "execution_count": 2,
   "metadata": {},
   "outputs": [
    {
     "data": {
      "text/plain": [
       "(7534, 2)"
      ]
     },
     "execution_count": 2,
     "metadata": {},
     "output_type": "execute_result"
    }
   ],
   "source": [
    "import pandas as pd\n",
    "test = pd.read_csv('test.csv')\n",
    "test.head()\n",
    "test.shape"
   ]
  },
  {
   "cell_type": "code",
   "execution_count": null,
   "metadata": {},
   "outputs": [],
   "source": []
  },
  {
   "cell_type": "code",
   "execution_count": 7,
   "metadata": {},
   "outputs": [],
   "source": [
    "import io\n",
    "\n",
    "count=1\n",
    "with io.open('Submission.csv', 'w') as writeFile:\n",
    "    writeFile.write('Image_File,Class\\n')\n",
    "    for i in range(test.shape[0]):\n",
    "        if(i>=3767):\n",
    "            writeFile.write(test['Image_File'][i]+',Large\\n')\n",
    "        else:\n",
    "            writeFile.write(test['Image_File'][i]+',Small\\n')\n",
    "\n",
    "\n",
    "\n",
    "            \n",
    "writeFile.close()"
   ]
  }
 ],
 "metadata": {
  "kernelspec": {
   "display_name": "Python 3",
   "language": "python",
   "name": "python3"
  },
  "language_info": {
   "codemirror_mode": {
    "name": "ipython",
    "version": 3
   },
   "file_extension": ".py",
   "mimetype": "text/x-python",
   "name": "python",
   "nbconvert_exporter": "python",
   "pygments_lexer": "ipython3",
   "version": "3.6.7"
  }
 },
 "nbformat": 4,
 "nbformat_minor": 2
}
