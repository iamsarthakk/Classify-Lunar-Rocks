{
 "cells": [
  {
   "cell_type": "code",
   "execution_count": 1,
   "metadata": {},
   "outputs": [],
   "source": [
    "from tensorflow.keras.preprocessing.image import ImageDataGenerator\n",
    "train_datagen = ImageDataGenerator(rescale=1./255,\n",
    "                                   shear_range=0.1,\n",
    "                                   zoom_range=0.1,\n",
    "                                   horizontal_flip=True)\n",
    "test_datagen = ImageDataGenerator(rescale=1./255)"
   ]
  },
  {
   "cell_type": "code",
   "execution_count": 10,
   "metadata": {},
   "outputs": [
    {
     "name": "stdout",
     "output_type": "stream",
     "text": [
      "Found 11998 images belonging to 2 classes.\n"
     ]
    }
   ],
   "source": [
    "train_set = train_datagen.flow_from_directory('Train Images',\n",
    "                                             target_size=(720,480),\n",
    "                                             batch_size=32,\n",
    "                                             class_mode='binary')"
   ]
  },
  {
   "cell_type": "code",
   "execution_count": 12,
   "metadata": {},
   "outputs": [
    {
     "name": "stdout",
     "output_type": "stream",
     "text": [
      "Found 1225 images belonging to 2 classes.\n"
     ]
    }
   ],
   "source": [
    "test_set = test_datagen.flow_from_directory('Validation',\n",
    "                                           target_size=(720,480),\n",
    "                                           batch_size = 32,\n",
    "                                           class_mode='binary',\n",
    "                                           shuffle=False)"
   ]
  },
  {
   "cell_type": "code",
   "execution_count": 13,
   "metadata": {},
   "outputs": [
    {
     "name": "stdout",
     "output_type": "stream",
     "text": [
      "Found 0 images belonging to 0 classes.\n"
     ]
    }
   ],
   "source": [
    "test_set1 = test_datagen.flow_from_directory('Test Images',\n",
    "                                            target_size=(720,480),\n",
    "                                            batch_size=32,\n",
    "                                            shuffle=False)"
   ]
  },
  {
   "cell_type": "code",
   "execution_count": 14,
   "metadata": {},
   "outputs": [
    {
     "name": "stderr",
     "output_type": "stream",
     "text": [
      "Using TensorFlow backend.\n"
     ]
    }
   ],
   "source": [
    "from keras.models import Sequential\n",
    "from keras.layers import Conv2D, MaxPooling2D\n",
    "from keras.layers import Activation, Dropout, Flatten, Dense\n",
    "from keras import backend as K\n",
    "\n",
    "img_width, img_height = 720, 480\n",
    "if K.image_data_format() == 'channels_first':\n",
    "    input_shape = (3, img_width, img_height)\n",
    "else:\n",
    "    input_shape = (img_width, img_height, 3)"
   ]
  },
  {
   "cell_type": "code",
   "execution_count": 15,
   "metadata": {},
   "outputs": [],
   "source": [
    "model = Sequential()\n",
    "model.add(Conv2D(32, (3, 3), input_shape=input_shape))\n",
    "model.add(Activation('relu'))\n",
    "model.add(MaxPooling2D(pool_size=(3, 3)))\n",
    "\n",
    "model.add(Conv2D(32, (3, 3)))\n",
    "model.add(Activation('relu'))\n",
    "model.add(MaxPooling2D(pool_size=(3, 3)))\n",
    "\n",
    "model.add(Conv2D(64, (3, 3)))\n",
    "model.add(Activation('relu'))\n",
    "model.add(MaxPooling2D(pool_size=(3, 3)))\n",
    "\n",
    "model.add(Flatten())\n",
    "model.add(Dense(64))\n",
    "model.add(Activation('relu'))\n",
    "model.add(Dropout(0.5))\n",
    "model.add(Dense(1))\n",
    "model.add(Activation('sigmoid'))\n",
    "\n",
    "model.compile(loss='binary_crossentropy', optimizer='rmsprop',metrics=['accuracy'])"
   ]
  },
  {
   "cell_type": "code",
   "execution_count": 17,
   "metadata": {
    "scrolled": true
   },
   "outputs": [
    {
     "name": "stdout",
     "output_type": "stream",
     "text": [
      "Epoch 1/18\n",
      "25/25 [==============================] - 297s 12s/step - loss: 0.5948 - acc: 0.6887 - val_loss: 0.2213 - val_acc: 0.9479\n",
      "Epoch 2/18\n",
      "25/25 [==============================] - 274s 11s/step - loss: 0.3897 - acc: 0.8287 - val_loss: 1.3133 - val_acc: 0.4531\n",
      "Epoch 3/18\n",
      "25/25 [==============================] - 271s 11s/step - loss: 0.2547 - acc: 0.9037 - val_loss: 0.0457 - val_acc: 0.9948\n",
      "Epoch 4/18\n",
      "25/25 [==============================] - 268s 11s/step - loss: 0.2242 - acc: 0.9312 - val_loss: 0.1439 - val_acc: 0.9219\n",
      "Epoch 5/18\n",
      "25/25 [==============================] - 271s 11s/step - loss: 0.1663 - acc: 0.9413 - val_loss: 0.0568 - val_acc: 0.9688\n",
      "Epoch 6/18\n",
      "25/25 [==============================] - 269s 11s/step - loss: 0.0527 - acc: 0.9850 - val_loss: 0.0883 - val_acc: 0.9427\n",
      "Epoch 7/18\n",
      "25/25 [==============================] - 264s 11s/step - loss: 0.0943 - acc: 0.9763 - val_loss: 0.0394 - val_acc: 0.9822\n",
      "Epoch 8/18\n",
      "25/25 [==============================] - 265s 11s/step - loss: 0.0482 - acc: 0.9812 - val_loss: 0.0026 - val_acc: 1.0000\n",
      "Epoch 9/18\n",
      "25/25 [==============================] - 267s 11s/step - loss: 0.2281 - acc: 0.9725 - val_loss: 0.0026 - val_acc: 1.0000\n",
      "Epoch 10/18\n",
      "25/25 [==============================] - 271s 11s/step - loss: 0.0219 - acc: 0.9937 - val_loss: 0.3974 - val_acc: 0.9167\n",
      "Epoch 11/18\n",
      "25/25 [==============================] - 266s 11s/step - loss: 0.0879 - acc: 0.9750 - val_loss: 0.0597 - val_acc: 0.9740\n",
      "Epoch 12/18\n",
      "25/25 [==============================] - 265s 11s/step - loss: 0.0084 - acc: 0.9975 - val_loss: 0.0331 - val_acc: 0.9844\n",
      "Epoch 13/18\n",
      "25/25 [==============================] - 264s 11s/step - loss: 0.0341 - acc: 0.9875 - val_loss: 0.0697 - val_acc: 0.9704\n",
      "Epoch 14/18\n",
      "25/25 [==============================] - 265s 11s/step - loss: 0.0084 - acc: 0.9975 - val_loss: 2.7038e-07 - val_acc: 1.0000\n",
      "Epoch 15/18\n",
      "25/25 [==============================] - 265s 11s/step - loss: 0.1825 - acc: 0.9798 - val_loss: 0.0066 - val_acc: 0.9948\n",
      "Epoch 16/18\n",
      "25/25 [==============================] - 266s 11s/step - loss: 0.0073 - acc: 1.0000 - val_loss: 1.8194e-05 - val_acc: 1.0000\n",
      "Epoch 17/18\n",
      "25/25 [==============================] - 289s 12s/step - loss: 0.0060 - acc: 1.0000 - val_loss: 0.0421 - val_acc: 0.9844\n",
      "Epoch 18/18\n",
      "25/25 [==============================] - 295s 12s/step - loss: 0.0066 - acc: 0.9962 - val_loss: 0.3231 - val_acc: 0.9271\n"
     ]
    },
    {
     "data": {
      "text/plain": [
       "<keras.callbacks.History at 0x2b5a3dc8f60>"
      ]
     },
     "execution_count": 17,
     "metadata": {},
     "output_type": "execute_result"
    }
   ],
   "source": [
    "nb_train_samples = 400\n",
    "nb_validation_samples = 100\n",
    "epochs = 18\n",
    "batch_size = 16\n",
    "\n",
    "model.fit_generator(train_set,steps_per_epoch=nb_train_samples // batch_size,epochs=epochs, validation_data=test_set,validation_steps=nb_validation_samples // batch_size)\n"
   ]
  },
  {
   "cell_type": "code",
   "execution_count": null,
   "metadata": {},
   "outputs": [],
   "source": []
  }
 ],
 "metadata": {
  "kernelspec": {
   "display_name": "Python 3",
   "language": "python",
   "name": "python3"
  },
  "language_info": {
   "codemirror_mode": {
    "name": "ipython",
    "version": 3
   },
   "file_extension": ".py",
   "mimetype": "text/x-python",
   "name": "python",
   "nbconvert_exporter": "python",
   "pygments_lexer": "ipython3",
   "version": "3.6.7"
  }
 },
 "nbformat": 4,
 "nbformat_minor": 2
}
